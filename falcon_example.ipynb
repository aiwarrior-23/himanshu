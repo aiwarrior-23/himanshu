{
  "nbformat": 4,
  "nbformat_minor": 0,
  "metadata": {
    "colab": {
      "provenance": []
    },
    "kernelspec": {
      "name": "python3",
      "display_name": "Python 3"
    },
    "language_info": {
      "name": "python"
    }
  },
  "cells": [
    {
      "cell_type": "markdown",
      "source": [
        "# Titanic Data API with Falcon\n",
        "\n",
        "In this notebook, we're going to explore the Falcon web framework by building a simple API to interact with the Titanic dataset."
      ],
      "metadata": {
        "id": "QBA78cpTkCtr"
      }
    },
    {
      "cell_type": "code",
      "source": [
        "# Import necessary libraries\n",
        "import falcon\n",
        "import pandas as pd"
      ],
      "metadata": {
        "id": "FrXOi5FfkPDD"
      },
      "execution_count": null,
      "outputs": []
    },
    {
      "cell_type": "markdown",
      "source": [
        "## Load the Data\n",
        "\n",
        "We'll start by loading the Titanic dataset using pandas.\n"
      ],
      "metadata": {
        "id": "gvrQ1LqukTvB"
      }
    },
    {
      "cell_type": "code",
      "source": [
        "# Read the Titanic dataset\n",
        "df = pd.read_csv('titanic.csv')"
      ],
      "metadata": {
        "id": "zKeL9VMhkXwa"
      },
      "execution_count": null,
      "outputs": []
    },
    {
      "cell_type": "markdown",
      "source": [
        "## Define the API Resources\n",
        "\n",
        "Next, we'll define two resources: one for fetching the first `n` records, and another for fetching information about a passenger by their passenger ID.\n"
      ],
      "metadata": {
        "id": "nD9e5SaxkadX"
      }
    },
    {
      "cell_type": "code",
      "source": [
        "# Define a resource for the first n records\n",
        "class FirstNResource:\n",
        "    def on_get(self, req, resp, n):\n",
        "        resp.media = df.head(int(n)).to_dict(orient='records')\n",
        "\n",
        "# Define a resource for a passenger by ID\n",
        "class PassengerResource:\n",
        "    def on_get(self, req, resp, passenger_id):\n",
        "        passenger_data = df[df['PassengerId'] == int(passenger_id)].to_dict(orient='records')\n",
        "        if passenger_data:\n",
        "            resp.media = passenger_data[0]\n",
        "        else:\n",
        "            resp.status = falcon.HTTP_404"
      ],
      "metadata": {
        "id": "cJYYWJLFkhRj"
      },
      "execution_count": null,
      "outputs": []
    },
    {
      "cell_type": "markdown",
      "source": [
        "## Create the Falcon API Object\n",
        "\n",
        "Finally, we'll create the Falcon API object and add our resources to it as routes."
      ],
      "metadata": {
        "id": "Nmko9yW_klPQ"
      }
    },
    {
      "cell_type": "code",
      "source": [
        "# Create the Falcon API object\n",
        "api = application = falcon.API()\n",
        "\n",
        "# Add routes to the API\n",
        "api.add_route('/first/{n}', FirstNResource())\n",
        "api.add_route('/passenger/{passenger_id}', PassengerResource())"
      ],
      "metadata": {
        "id": "cIxMkRmzko33"
      },
      "execution_count": null,
      "outputs": []
    },
    {
      "cell_type": "markdown",
      "source": [
        "## Running the API\n",
        "\n",
        "To run the API, you would typically use a WSGI server such as `wsgiref.simple_server`. However, as we are in a Jupyter notebook, we can't do this here. \n",
        "\n",
        "You can run the application by saving the code in a Python file (for example, `app.py`), and then starting the server with `python app.py` in your command line.\n",
        "\n",
        "You can then access the API by making GET requests to `localhost:8000/first/n` and `localhost:8000/passenger/passenger_id`, replacing `n` and `passenger_id` with the desired number of records and passenger ID, respectively."
      ],
      "metadata": {
        "id": "6OULPR6CksSH"
      }
    },
    {
      "cell_type": "code",
      "source": [],
      "metadata": {
        "id": "fbBbtUW0kwB2"
      },
      "execution_count": null,
      "outputs": []
    }
  ]
}